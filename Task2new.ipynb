{
  "nbformat": 4,
  "nbformat_minor": 0,
  "metadata": {
    "colab": {
      "name": "Task2.ipynb",
      "provenance": []
    },
    "kernelspec": {
      "name": "python3",
      "display_name": "Python 3"
    },
    "language_info": {
      "name": "python"
    }
  },
  "cells": [
    {
      "cell_type": "markdown",
      "source": [
        "# GENERATE PRIVATE KEY"
      ],
      "metadata": {
        "id": "7p7IL-z0hz4M"
      }
    },
    {
      "cell_type": "markdown",
      "source": [
        "## Generated using the strong RNG(secrets) provided by Python"
      ],
      "metadata": {
        "id": "DN6vPYG3iJyi"
      }
    },
    {
      "cell_type": "code",
      "execution_count": null,
      "metadata": {
        "colab": {
          "base_uri": "https://localhost:8080/"
        },
        "id": "ObJenHKIhuE9",
        "outputId": "2a8916d3-ddae-4956-a20f-5ff39544726b"
      },
      "outputs": [
        {
          "output_type": "stream",
          "name": "stdout",
          "text": [
            "6a20747aabd06f0ccafd4cd996f830ad171ab9482de11e433a7e79b6d9f1678a\n"
          ]
        }
      ],
      "source": [
        "import secrets\n",
        "\n",
        "# create a random 256 address\n",
        "# take its hex and remoce first two elements (0x)\n",
        "privateKey1 = hex(secrets.randbits(256))[2:]\n",
        "\n",
        "print(privateKey1)"
      ]
    },
    {
      "cell_type": "markdown",
      "source": [
        "## Creating a simpler Bitaddress model\n",
        "  *   Code inspiration from ==> https://www.freecodecamp.org/news/how-to-generate-your-very-own-bitcoin-private-key-7ad0f4936e6c/\n"
      ],
      "metadata": {
        "id": "y6nwR4WAi04X"
      }
    },
    {
      "cell_type": "markdown",
      "source": [
        "Imports\n",
        "\n",
        "\n"
      ],
      "metadata": {
        "id": "v1DPP8GnkrI_"
      }
    },
    {
      "cell_type": "code",
      "source": [
        "import time\n",
        "import random"
      ],
      "metadata": {
        "id": "Df-NuowbngkC"
      },
      "execution_count": null,
      "outputs": []
    },
    {
      "cell_type": "markdown",
      "source": [
        "Generator Class"
      ],
      "metadata": {
        "id": "pq_mGeorowLk"
      }
    },
    {
      "cell_type": "code",
      "source": [
        "class PrivateKeyGenerator:\n",
        "  def __init__(self):\n",
        "        self.POOL_SIZE = 256\n",
        "        self.KEY_BYTES = 32\n",
        "        self.CURVE_ORDER = int('FFFFFFFFFFFFFFFFFFFFFFFFFFFFFFFEBAAEDCE6AF48A03BBFD25E8CD0364141', 16)\n",
        "        self.pool = [0] * self.POOL_SIZE\n",
        "        self.pool_pointer = 0\n",
        "        self.prng_state = None\n",
        "        self.__init_pool()\n",
        "\n",
        "# 1st Step : Initializing The Pool\n",
        "  # Entropy using __seed_int and __seed_byte\n",
        "  def __init_pool(self):\n",
        "      for i in range(self.POOL_SIZE):\n",
        "          # create and seed a random pool of 8 bits\n",
        "          self.__seed_byte(secrets.randbits(8))\n",
        "\n",
        "      # time for entropy\n",
        "      self.__seed_int(int(time.time()))\n",
        "\n",
        "  def __seed_int(self, n):\n",
        "      self.__seed_byte(n)\n",
        "      self.__seed_byte(n >> 8)\n",
        "      self.__seed_byte(n >> 16)\n",
        "      self.__seed_byte(n >> 24)\n",
        "\n",
        "  def __seed_byte(self, n):\n",
        "      self.pool[self.pool_pointer] ^= n & 255\n",
        "      self.pool_pointer += 1\n",
        "\n",
        "      if self.pool_pointer >= self.POOL_SIZE:\n",
        "          self.pool_pointer = 0\n",
        "\n",
        "# 2nd Step: Seeding the Input\n",
        "  # Put a timestamp and then input string\n",
        "  def seed_input(self, str_input):\n",
        "      self.__seed_int(int(time.time()))\n",
        "\n",
        "      for char in str_input:\n",
        "          self.__seed_byte(ord(char))\n",
        "\n",
        "# 3rd Step: Generating the Private Key\n",
        "  # getstate and setstate used to conserve entropy\n",
        "  # Key of range (1, Curve_Order)\n",
        "      # Curve_Order is the order of secp256k1\n",
        "  # Convert to hex and strip (\"0x\")\n",
        "\n",
        "  def generate_key(self):\n",
        "      bigInt = self.__generateBigInt()\n",
        "      bigInt = bigInt % (self.CURVE_ORDER - 1) # key < curve order\n",
        "      bigInt = bigInt + 1 # key > 0\n",
        "\n",
        "      keyHex = hex(bigInt)\n",
        "      key = keyHex[2:]\n",
        "      return key\n",
        "\n",
        "  def __generateBigInt(self):\n",
        "      if self.prng_state is None:\n",
        "        seed = int.from_bytes(self.pool, byteorder='big', signed=False)\n",
        "        random.seed(seed)\n",
        "\n",
        "      self.prng_state = random.getstate()\n",
        "      random.setstate(self.prng_state)\n",
        "      \n",
        "      bigInt = random.getrandbits(self.KEY_BYTES * 8)\n",
        "      self.prng_state = random.getstate()\n",
        "      \n",
        "      return bigInt"
      ],
      "metadata": {
        "id": "li0X-rBnnlM4"
      },
      "execution_count": null,
      "outputs": []
    },
    {
      "cell_type": "markdown",
      "source": [
        "Trial Call"
      ],
      "metadata": {
        "id": "dG-DVwjYnFHu"
      }
    },
    {
      "cell_type": "code",
      "source": [
        "privKeyGen = PrivateKeyGenerator()\n",
        "privKeyGen.seed_input('Ranchoddas Shamaldas Chanchad :)')\n",
        "\n",
        "privateKey2 = privKeyGen.generate_key()\n",
        "print(privateKey2)"
      ],
      "metadata": {
        "colab": {
          "base_uri": "https://localhost:8080/"
        },
        "id": "XFgVj0p6nD8j",
        "outputId": "4cc70e26-3b8a-4b33-86ca-e82b5fe6dd47"
      },
      "execution_count": null,
      "outputs": [
        {
          "output_type": "stream",
          "name": "stdout",
          "text": [
            "4979e71e76a5350404ca5af7a0b106c5e0cd65e35a7b81f272b34f2928d96275\n"
          ]
        }
      ]
    },
    {
      "cell_type": "markdown",
      "source": [
        "# GET PUBLIC KEY"
      ],
      "metadata": {
        "id": "Wp0oaY2mpxgK"
      }
    },
    {
      "cell_type": "markdown",
      "source": [
        "Code Inspiration from => https://medium.com/@kootsZhin/step-by-step-guide-to-getting-bitcoin-address-from-private-key-in-python-7ec15072b71b"
      ],
      "metadata": {
        "id": "rJjo1c_4rBZf"
      }
    },
    {
      "cell_type": "markdown",
      "source": [
        "## Imports"
      ],
      "metadata": {
        "id": "9lJ0fYY2rIUP"
      }
    },
    {
      "cell_type": "code",
      "source": [
        "import hashlib\n",
        "import base58\n",
        "import codecs\n",
        "import ecdsa"
      ],
      "metadata": {
        "id": "YgIZA6mJp6c4"
      },
      "execution_count": null,
      "outputs": []
    },
    {
      "cell_type": "markdown",
      "source": [
        "## Step 1: Get uncompressed Public Key"
      ],
      "metadata": {
        "id": "pB-17KglrMt8"
      }
    },
    {
      "cell_type": "code",
      "source": [
        "# Hex decoding the private key to bytes using codecs library and Generating a public key in bytes using SECP256k1 & ecdsa library\n",
        "publicKeyBytes = (ecdsa.SigningKey.from_string(codecs.decode(privateKey2, 'hex'), curve=ecdsa.SECP256k1).verifying_key).to_string()\n",
        "\n",
        "# Hex encoding the public key from bytes\n",
        "publicKeyHex = codecs.encode(publicKeyBytes, 'hex')\n",
        "\n",
        "# Bitcoin public key begins with bytes 0x04 so we have to add the bytes at the start\n",
        "publicKey = (b'04' + publicKeyHex).decode(\"utf-8\")\n",
        "\n",
        "print(publicKey)"
      ],
      "metadata": {
        "colab": {
          "base_uri": "https://localhost:8080/"
        },
        "id": "8gHX0D7Kq322",
        "outputId": "e9e48aa2-8761-4db3-8c67-8f7361d1ea8e"
      },
      "execution_count": null,
      "outputs": [
        {
          "output_type": "stream",
          "name": "stdout",
          "text": [
            "04f41172a93c094f1984cfedf490617ff86526820b044534c2221fc6de21fc4e4c25a11ef2c95f3a59c6f845a176094dccbd70c9ee5ac824a11fa88dc8994cd952\n"
          ]
        }
      ]
    },
    {
      "cell_type": "markdown",
      "source": [
        "## Step 2: Get Compressed Public Key"
      ],
      "metadata": {
        "id": "26JeZyiWsHFR"
      }
    },
    {
      "cell_type": "code",
      "source": [
        "# Checking if the last byte is odd or even\n",
        "if (ord(bytearray.fromhex(publicKey[-2:])) % 2 == 0):\n",
        "    publicKeyCompressed = '02'\n",
        "else:\n",
        "    publicKeyCompressed = '03'\n",
        "    \n",
        "# Add bytes 0x02 to the X of the key if even or 0x03 if odd\n",
        "publicKeyCompressed += publicKey[2:66]\n",
        "\n",
        "print(publicKeyCompressed)"
      ],
      "metadata": {
        "colab": {
          "base_uri": "https://localhost:8080/"
        },
        "id": "NqzuQOqGsM1w",
        "outputId": "3d99be25-ad0f-4ec9-cd98-4cae094c98d4"
      },
      "execution_count": null,
      "outputs": [
        {
          "output_type": "stream",
          "name": "stdout",
          "text": [
            "02f41172a93c094f1984cfedf490617ff86526820b044534c2221fc6de21fc4e4c\n"
          ]
        }
      ]
    },
    {
      "cell_type": "markdown",
      "source": [
        "## Step 3: Perform SHA-256 hashing on the compressed public key"
      ],
      "metadata": {
        "id": "PJR3poYksorz"
      }
    },
    {
      "cell_type": "code",
      "source": [
        "# Converting to bytearray for SHA-256 hashing\n",
        "hexStr = bytearray.fromhex(publicKeyCompressed)\n",
        "\n",
        "# Apply sha\n",
        "sha = hashlib.sha256()\n",
        "sha.update(hexStr)\n",
        "sha.hexdigest() # .hexdigest() is hex ASCII"
      ],
      "metadata": {
        "colab": {
          "base_uri": "https://localhost:8080/",
          "height": 35
        },
        "id": "dKFhmM_psr09",
        "outputId": "1cdf54fd-c7d3-4b34-f056-414b5ce7fa36"
      },
      "execution_count": null,
      "outputs": [
        {
          "output_type": "execute_result",
          "data": {
            "text/plain": [
              "'433218daec7ea37fd88bd6fe1220254a859ae5436f6f1da320864f457b0f25bf'"
            ],
            "application/vnd.google.colaboratory.intrinsic+json": {
              "type": "string"
            }
          },
          "metadata": {},
          "execution_count": 29
        }
      ]
    },
    {
      "cell_type": "markdown",
      "source": [
        "## Step 4: Perform RIPMED-160 hashing on the result of SHA-256"
      ],
      "metadata": {
        "id": "KwI_LyEbs9Qs"
      }
    },
    {
      "cell_type": "code",
      "source": [
        "rip = hashlib.new('ripemd160')\n",
        "rip.update(sha.digest())\n",
        "\n",
        "keyHash = rip.hexdigest()\n",
        "print(keyHash) # Hash160"
      ],
      "metadata": {
        "colab": {
          "base_uri": "https://localhost:8080/"
        },
        "id": "XCdFQyF_tBZJ",
        "outputId": "52c4a0da-7f17-4ce7-d12e-415f5fda4c62"
      },
      "execution_count": null,
      "outputs": [
        {
          "output_type": "stream",
          "name": "stdout",
          "text": [
            "3bbfe5ca08337d6861fbf3104c504dfe80ebc303\n"
          ]
        }
      ]
    },
    {
      "cell_type": "markdown",
      "source": [
        "## Step 5: Add version byte in front of RIPEMD-160 hash (0x00 for Main Network)"
      ],
      "metadata": {
        "id": "B-v5LicrtSAt"
      }
    },
    {
      "cell_type": "code",
      "source": [
        "modifiedKeyHash = \"00\" + keyHash\n",
        "print(modifiedKeyHash)"
      ],
      "metadata": {
        "colab": {
          "base_uri": "https://localhost:8080/"
        },
        "id": "6SIMbrgRtf_Y",
        "outputId": "fbc0f712-8ab6-4a97-da06-7c58a37501c8"
      },
      "execution_count": null,
      "outputs": [
        {
          "output_type": "stream",
          "name": "stdout",
          "text": [
            "003bbfe5ca08337d6861fbf3104c504dfe80ebc303\n"
          ]
        }
      ]
    },
    {
      "cell_type": "markdown",
      "source": [
        "## Step 6: Perform SHA-256 hash on the extended RIPEMD-160 result (Base58Check encoding)"
      ],
      "metadata": {
        "id": "tfDdswxIuJ6i"
      }
    },
    {
      "cell_type": "code",
      "source": [
        "# Converting to bytearray for SHA-256 hashing\n",
        "hexString = bytearray.fromhex(modifiedKeyHash)\n",
        "\n",
        "# Apply sha\n",
        "sha2 = hashlib.sha256()\n",
        "sha2.update(hexString)\n",
        "sha2.hexdigest()"
      ],
      "metadata": {
        "colab": {
          "base_uri": "https://localhost:8080/",
          "height": 35
        },
        "id": "mmwrmh1-uQ-2",
        "outputId": "19c33aaa-de9a-4858-f5bd-915cc2e993b6"
      },
      "execution_count": null,
      "outputs": [
        {
          "output_type": "execute_result",
          "data": {
            "text/plain": [
              "'b387601c7b426a4dfca774a2918705fb7e0fc36a5a56ea5a4486d71be59c31ca'"
            ],
            "application/vnd.google.colaboratory.intrinsic+json": {
              "type": "string"
            }
          },
          "metadata": {},
          "execution_count": 37
        }
      ]
    },
    {
      "cell_type": "markdown",
      "source": [
        "## Step 7: Perform SHA-256 hash on the result of the previous SHA-256 hash"
      ],
      "metadata": {
        "id": "GJ36bidquzwY"
      }
    },
    {
      "cell_type": "code",
      "source": [
        "sha3 = hashlib.sha256()\n",
        "sha3.update(sha.digest())\n",
        "sha3.hexdigest()"
      ],
      "metadata": {
        "colab": {
          "base_uri": "https://localhost:8080/",
          "height": 35
        },
        "id": "vvV7XX7Lu736",
        "outputId": "2f60c237-fbe2-4bba-d390-9dfa35dad46b"
      },
      "execution_count": null,
      "outputs": [
        {
          "output_type": "execute_result",
          "data": {
            "text/plain": [
              "'ea1919789678de9e46a339abbb532e1dc10b00d6a24d417fed58f928c187a5f8'"
            ],
            "application/vnd.google.colaboratory.intrinsic+json": {
              "type": "string"
            }
          },
          "metadata": {},
          "execution_count": 38
        }
      ]
    },
    {
      "cell_type": "markdown",
      "source": [
        "## Step 8: Take the first 4 bytes of the second SHA-256 hash, this is the address checksum"
      ],
      "metadata": {
        "id": "Q1thhI9FvELp"
      }
    },
    {
      "cell_type": "code",
      "source": [
        "checkSum = sha3.hexdigest()[:8]\n",
        "\n",
        "print(checkSum)"
      ],
      "metadata": {
        "colab": {
          "base_uri": "https://localhost:8080/"
        },
        "id": "e29uAbrivJkp",
        "outputId": "0c1df17a-da29-4cdb-aa91-1dd32265712d"
      },
      "execution_count": null,
      "outputs": [
        {
          "output_type": "stream",
          "name": "stdout",
          "text": [
            "ea191978\n"
          ]
        }
      ]
    },
    {
      "cell_type": "markdown",
      "source": [
        "## Step 9: Add the 4 checksum bytes from stage 8 at the end of extended RIPEMD-160 hash from stage 5, this is the 25-byte binary Bitcoin Address"
      ],
      "metadata": {
        "id": "XL1CYtWavYxx"
      }
    },
    {
      "cell_type": "code",
      "source": [
        "byte25Address = modifiedKeyHash + checkSum\n",
        "\n",
        "print(byte25Address)"
      ],
      "metadata": {
        "colab": {
          "base_uri": "https://localhost:8080/"
        },
        "id": "tb_raQP4vYcW",
        "outputId": "bc795618-9b69-4d15-fa4c-07f563c8c9ff"
      },
      "execution_count": null,
      "outputs": [
        {
          "output_type": "stream",
          "name": "stdout",
          "text": [
            "003bbfe5ca08337d6861fbf3104c504dfe80ebc303ea191978\n"
          ]
        }
      ]
    },
    {
      "cell_type": "markdown",
      "source": [
        "## Step 10 (Final Result): Convert the result from a byte string into a base58 string using Base58Check encoding, this is the most commonly used Bitcoin Address format"
      ],
      "metadata": {
        "id": "KOO_4VBuvrbX"
      }
    },
    {
      "cell_type": "code",
      "source": [
        "address1 = base58.b58encode(bytes(bytearray.fromhex(byte25Address))).decode('utf-8')\n",
        "\n",
        "print(address1)"
      ],
      "metadata": {
        "colab": {
          "base_uri": "https://localhost:8080/"
        },
        "id": "rPir1Tt5vv7Z",
        "outputId": "6802844c-2812-489e-eda2-9ab7d1a85d9d"
      },
      "execution_count": null,
      "outputs": [
        {
          "output_type": "stream",
          "name": "stdout",
          "text": [
            "16SvkbgZ4cqeWhTivTExWT4rvoT8Xs9bpj\n"
          ]
        }
      ]
    },
    {
      "cell_type": "markdown",
      "source": [
        "## ALTERNATIVE WAY: Making use of b58.encode_check from base58 library directly at Step 6"
      ],
      "metadata": {
        "id": "435LS3uKwtOm"
      }
    },
    {
      "cell_type": "code",
      "source": [
        "keyBytes = codecs.decode(modifiedKeyHash, 'hex')\n",
        "address2 = base58.b58encode_check(keyBytes).decode('utf-8')\n",
        "address2"
      ],
      "metadata": {
        "colab": {
          "base_uri": "https://localhost:8080/",
          "height": 35
        },
        "id": "GYHPm6cJwzxq",
        "outputId": "e25fc2f7-4a63-4880-9a73-82b5e431baa2"
      },
      "execution_count": null,
      "outputs": [
        {
          "output_type": "execute_result",
          "data": {
            "text/plain": [
              "'16SvkbgZ4cqeWhTivTExWT4rvoT8Xs9bpj'"
            ],
            "application/vnd.google.colaboratory.intrinsic+json": {
              "type": "string"
            }
          },
          "metadata": {},
          "execution_count": 45
        }
      ]
    }
  ]
}